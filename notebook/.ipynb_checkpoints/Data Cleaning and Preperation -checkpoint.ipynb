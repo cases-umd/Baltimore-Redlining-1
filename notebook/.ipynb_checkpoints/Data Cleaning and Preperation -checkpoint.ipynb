{
 "cells": [
  {
   "cell_type": "markdown",
   "metadata": {
    "collapsed": true
   },
   "source": [
    "# Data Cleaning and Preperation "
   ]
  },
  {
   "cell_type": "markdown",
   "metadata": {},
   "source": [
    "### Importing the Data and Creating a Data Frame"
   ]
  },
  {
   "cell_type": "markdown",
   "metadata": {},
   "source": [
    "The fields of each record are characteristics of a graded section indicated by the security grade map seen above. These fields have been transcribed and stored in a __comma separated value (csv)__ format.\n",
    "\n",
    "Using the pandas library, we can create a data frame from the csv. A __data frame__ is a table where every row represents a single unique object, called an __entity__, and every column represents characteristics of these objects, called __attributes__."
   ]
  },
  {
   "cell_type": "code",
   "execution_count": 1,
   "metadata": {
    "collapsed": false
   },
   "outputs": [
    {
     "data": {
      "text/html": [
       "<div>\n",
       "<table border=\"1\" class=\"dataframe\">\n",
       "  <thead>\n",
       "    <tr style=\"text-align: right;\">\n",
       "      <th></th>\n",
       "      <th>Form</th>\n",
       "      <th>State</th>\n",
       "      <th>City</th>\n",
       "      <th>Security_Grade</th>\n",
       "      <th>Area_Number</th>\n",
       "      <th>Terrain_Description</th>\n",
       "      <th>Favorable_Influences</th>\n",
       "      <th>Detrimental_Influences</th>\n",
       "      <th>INHABITANTS_Type</th>\n",
       "      <th>INHABITANTS_Annual_Income</th>\n",
       "      <th>...</th>\n",
       "      <th>INHABITANTS_Population_Increase</th>\n",
       "      <th>INHABITANTS_Population_Decrease</th>\n",
       "      <th>INHABITANTS_Population_Static</th>\n",
       "      <th>BUILDINGS_Types</th>\n",
       "      <th>BUILDINGS_Construction</th>\n",
       "      <th>BUILDINGS_Age</th>\n",
       "      <th>BUILDINGS_Repair</th>\n",
       "      <th>Ten_Fifteen_Desirability</th>\n",
       "      <th>Remarks</th>\n",
       "      <th>Date</th>\n",
       "    </tr>\n",
       "  </thead>\n",
       "  <tbody>\n",
       "    <tr>\n",
       "      <th>0</th>\n",
       "      <td>NS FORM-8 6-1-37</td>\n",
       "      <td>Maryland</td>\n",
       "      <td>Baltimore</td>\n",
       "      <td>A</td>\n",
       "      <td>2</td>\n",
       "      <td>Rolling</td>\n",
       "      <td>Fairly new suburban area of homogeneous charac...</td>\n",
       "      <td>None</td>\n",
       "      <td>Substantial Middle Class</td>\n",
       "      <td>$3000 - 5,000</td>\n",
       "      <td>...</td>\n",
       "      <td>Fast</td>\n",
       "      <td>NaN</td>\n",
       "      <td>NaN</td>\n",
       "      <td>Detached an row houses</td>\n",
       "      <td>Brick and frame</td>\n",
       "      <td>1 to 10 years</td>\n",
       "      <td>Good</td>\n",
       "      <td>Upward</td>\n",
       "      <td>A recent development with much room for expans...</td>\n",
       "      <td>May 4,1937</td>\n",
       "    </tr>\n",
       "    <tr>\n",
       "      <th>1</th>\n",
       "      <td>NS FORM-8 6-1-37</td>\n",
       "      <td>Maryland</td>\n",
       "      <td>Baltimore</td>\n",
       "      <td>A</td>\n",
       "      <td>1</td>\n",
       "      <td>Undulating</td>\n",
       "      <td>Very nicely planned residential area of medium...</td>\n",
       "      <td>None</td>\n",
       "      <td>Executives, Professional Men</td>\n",
       "      <td>over $5000</td>\n",
       "      <td>...</td>\n",
       "      <td>Moderately Fast</td>\n",
       "      <td>NaN</td>\n",
       "      <td>NaN</td>\n",
       "      <td>Single family detached</td>\n",
       "      <td>Brick and Stone</td>\n",
       "      <td>12 years</td>\n",
       "      <td>Very good</td>\n",
       "      <td>Upward</td>\n",
       "      <td>Mostly fee properties. A few homes valued at $...</td>\n",
       "      <td>May 4,1937</td>\n",
       "    </tr>\n",
       "    <tr>\n",
       "      <th>2</th>\n",
       "      <td>NS FORM-8 6-1-37</td>\n",
       "      <td>Maryland</td>\n",
       "      <td>Baltimore</td>\n",
       "      <td>A</td>\n",
       "      <td>3</td>\n",
       "      <td>Rolling</td>\n",
       "      <td>Good residential area. Well planned.</td>\n",
       "      <td>Distance to City</td>\n",
       "      <td>Executives, Professional Men</td>\n",
       "      <td>3500 - 7000</td>\n",
       "      <td>...</td>\n",
       "      <td>Moderately Fast</td>\n",
       "      <td>NaN</td>\n",
       "      <td>NaN</td>\n",
       "      <td>One family detached</td>\n",
       "      <td>Brick, Stone, and Frame</td>\n",
       "      <td>1 to 20 years</td>\n",
       "      <td>Good to excellent</td>\n",
       "      <td>Upward</td>\n",
       "      <td>Principally fee property. This section lies in...</td>\n",
       "      <td>May 4,1937</td>\n",
       "    </tr>\n",
       "  </tbody>\n",
       "</table>\n",
       "<p>3 rows × 26 columns</p>\n",
       "</div>"
      ],
      "text/plain": [
       "               Form     State        City Security_Grade  Area_Number  \\\n",
       "0  NS FORM-8 6-1-37  Maryland  Baltimore               A            2   \n",
       "1  NS FORM-8 6-1-37  Maryland  Baltimore               A            1   \n",
       "2  NS FORM-8 6-1-37  Maryland  Baltimore              A             3   \n",
       "\n",
       "  Terrain_Description                               Favorable_Influences  \\\n",
       "0             Rolling  Fairly new suburban area of homogeneous charac...   \n",
       "1         Undulating   Very nicely planned residential area of medium...   \n",
       "2             Rolling               Good residential area. Well planned.   \n",
       "\n",
       "  Detrimental_Influences              INHABITANTS_Type  \\\n",
       "0                   None      Substantial Middle Class   \n",
       "1                   None  Executives, Professional Men   \n",
       "2       Distance to City  Executives, Professional Men   \n",
       "\n",
       "  INHABITANTS_Annual_Income     ...     INHABITANTS_Population_Increase  \\\n",
       "0             $3000 - 5,000     ...                               Fast    \n",
       "1                over $5000     ...                     Moderately Fast   \n",
       "2               3500 - 7000     ...                     Moderately Fast   \n",
       "\n",
       "   INHABITANTS_Population_Decrease INHABITANTS_Population_Static  \\\n",
       "0                              NaN                           NaN   \n",
       "1                              NaN                           NaN   \n",
       "2                              NaN                           NaN   \n",
       "\n",
       "          BUILDINGS_Types   BUILDINGS_Construction  BUILDINGS_Age  \\\n",
       "0  Detached an row houses          Brick and frame  1 to 10 years   \n",
       "1  Single family detached          Brick and Stone       12 years   \n",
       "2     One family detached  Brick, Stone, and Frame  1 to 20 years   \n",
       "\n",
       "    BUILDINGS_Repair Ten_Fifteen_Desirability  \\\n",
       "0               Good                   Upward   \n",
       "1          Very good                   Upward   \n",
       "2  Good to excellent                   Upward   \n",
       "\n",
       "                                             Remarks        Date  \n",
       "0  A recent development with much room for expans...  May 4,1937  \n",
       "1  Mostly fee properties. A few homes valued at $...  May 4,1937  \n",
       "2  Principally fee property. This section lies in...  May 4,1937  \n",
       "\n",
       "[3 rows x 26 columns]"
      ]
     },
     "execution_count": 1,
     "metadata": {},
     "output_type": "execute_result"
    }
   ],
   "source": [
    "# loads the pandas library \n",
    "import pandas as pd\n",
    "\n",
    "# creates data frame named df by reading in the Baltimore csv\n",
    "df = pd.read_csv(\"AD_Data_BaltimoreProject.csv\")\n",
    "df.head(n=3)"
   ]
  },
  {
   "cell_type": "markdown",
   "metadata": {},
   "source": [
    "After obtaining our data, we need to clean it to prepare for data analysis. This includes handling similiar text values and making sure a column of interest contains a single attribute."
   ]
  },
  {
   "cell_type": "markdown",
   "metadata": {},
   "source": [
    "### Handling Text Values with Similar Meanings "
   ]
  },
  {
   "cell_type": "markdown",
   "metadata": {},
   "source": [
    "The `INHABITANTS_Foreignborn` varaible indicates whether there are foreigners in a neighborhood section. Observe that different forms used 'No' or 'None' to indicate there are no foreigners and 'Small' , 'Very few' , and 'Mixture' are various ways of indicating there were foreigners. `NaN` indicates the value in the form is missing."
   ]
  },
  {
   "cell_type": "code",
   "execution_count": 2,
   "metadata": {
    "collapsed": false
   },
   "outputs": [
    {
     "data": {
      "text/plain": [
       "0           No\n",
       "1         None\n",
       "2         None\n",
       "3         None\n",
       "4         None\n",
       "5          NaN\n",
       "6           No\n",
       "7           No\n",
       "8           No\n",
       "9        Small\n",
       "10    Very few\n",
       "11          No\n",
       "12          No\n",
       "13          No\n",
       "14          No\n",
       "15     Mixture\n",
       "Name: INHABITANTS_Foreignborn, dtype: object"
      ]
     },
     "execution_count": 2,
     "metadata": {},
     "output_type": "execute_result"
    }
   ],
   "source": [
    "# selects rows with indices between 0 to 15 included of the 'INHABITANTS_Foreignborn' column\n",
    "df.ix[0:15,'INHABITANTS_Foreignborn']"
   ]
  },
  {
   "cell_type": "markdown",
   "metadata": {},
   "source": [
    "Since columns with categorized values are easier to analyze, we are going to transform this column to indicate whether there are foreigners or not. In Python, `None` is a special keyword that indicates the cell has a null value. Therefore, we will alter all the 'None' values to 'No' and every other value that indicates there are to 'Yes'."
   ]
  },
  {
   "cell_type": "code",
   "execution_count": 3,
   "metadata": {
    "collapsed": false
   },
   "outputs": [
    {
     "data": {
      "text/plain": [
       "0      No\n",
       "1      No\n",
       "2      No\n",
       "3      No\n",
       "4      No\n",
       "5     Yes\n",
       "6      No\n",
       "7      No\n",
       "8      No\n",
       "9     Yes\n",
       "10    Yes\n",
       "11     No\n",
       "12     No\n",
       "13     No\n",
       "14     No\n",
       "15    Yes\n",
       "Name: INHABITANTS_Foreignborn, dtype: object"
      ]
     },
     "execution_count": 3,
     "metadata": {},
     "output_type": "execute_result"
    }
   ],
   "source": [
    "# replaces the values of 'None' with 'No'\n",
    "df['INHABITANTS_Foreignborn'] = df['INHABITANTS_Foreignborn'].replace('None', 'No')\n",
    "\n",
    "# replaces all other values with 'Yes'\n",
    "for value in df['INHABITANTS_Foreignborn']:\n",
    "    if value != 'No' and value != 'NaN':\n",
    "        df['INHABITANTS_Foreignborn'] = df['INHABITANTS_Foreignborn'].replace(value, 'Yes')\n",
    "\n",
    "df.ix[0:15,'INHABITANTS_Foreignborn']"
   ]
  },
  {
   "cell_type": "markdown",
   "metadata": {},
   "source": [
    "`Detrimental_Influences`  are descriptions of a region's undesiriable characteristics. Notice in this case that there are multiple variations of the meaning of 'No' to be replaced. "
   ]
  },
  {
   "cell_type": "code",
   "execution_count": 4,
   "metadata": {
    "collapsed": false
   },
   "outputs": [
    {
     "data": {
      "text/plain": [
       "0                                          None\n",
       "1                                          None\n",
       "2                              Distance to City\n",
       "3                                          None\n",
       "4                                          None\n",
       "5                                           NaN\n",
       "6                                           No.\n",
       "7                                          None\n",
       "8     Few streets of property in poor condition\n",
       "9                                          None\n",
       "10                                         None\n",
       "11                      Built on filled ground.\n",
       "12                                         None\n",
       "13                                         None\n",
       "14                   Distance to center of city\n",
       "15                                         None\n",
       "Name: Detrimental_Influences, dtype: object"
      ]
     },
     "execution_count": 4,
     "metadata": {},
     "output_type": "execute_result"
    }
   ],
   "source": [
    "df.ix[0:15,'Detrimental_Influences']"
   ]
  },
  {
   "cell_type": "markdown",
   "metadata": {},
   "source": [
    "To handle the multiple words to be replaced we can use an __array__, a list that holds a fixed number of values of the same type, to store several strings. Then we can replace each occurence in `Detrimental_Influences` by iterating through the array and using the `replace()` function."
   ]
  },
  {
   "cell_type": "code",
   "execution_count": 5,
   "metadata": {
    "collapsed": true
   },
   "outputs": [],
   "source": [
    "# declares an array called 'no_words' containing strings that all mean 'No'\n",
    "no_words = ['No.','no', 'none', 'None']\n",
    "\n",
    "# interates through no_words and replaces each occurence in Detrimental_Influences\n",
    "for word in no_words:\n",
    "    df['Detrimental_Influences'] = df['Detrimental_Influences'].replace( word , 'No')"
   ]
  },
  {
   "cell_type": "code",
   "execution_count": 6,
   "metadata": {
    "collapsed": false
   },
   "outputs": [
    {
     "data": {
      "text/plain": [
       "0                                            No\n",
       "1                                            No\n",
       "2                              Distance to City\n",
       "3                                            No\n",
       "4                                            No\n",
       "5                                           NaN\n",
       "6                                            No\n",
       "7                                            No\n",
       "8     Few streets of property in poor condition\n",
       "9                                            No\n",
       "10                                           No\n",
       "11                      Built on filled ground.\n",
       "12                                           No\n",
       "13                                           No\n",
       "14                   Distance to center of city\n",
       "15                                           No\n",
       "Name: Detrimental_Influences, dtype: object"
      ]
     },
     "execution_count": 6,
     "metadata": {},
     "output_type": "execute_result"
    }
   ],
   "source": [
    "df.ix[0:15,'Detrimental_Influences']"
   ]
  },
  {
   "cell_type": "markdown",
   "metadata": {},
   "source": [
    "We need to do these same operations for `INHABITANTS_Negro`, whether residents are African American, and `INHABITANTS_Infiltration`, which refers to if the area is being infiltrated. __Functions__ are procedures that perform specific tasks. In Python, we can create our own functions or used built-in functions such as `replace()`. __Parameters__ are variables that are defined in the function definition. __Arguments__ are the values passed into a function.\n",
    "\n",
    "The `replace_values` function has three parmeters : `attribute`, `new_word`, and `words_to_replace`."
   ]
  },
  {
   "cell_type": "code",
   "execution_count": 7,
   "metadata": {
    "collapsed": true
   },
   "outputs": [],
   "source": [
    "# this function iterates through an array of words to be replaced and replaces each occurence in the attribute \n",
    "# with the new word\n",
    "def replace_values(attribute, new_word, words_to_replace):\n",
    "    for word in words_to_replace:\n",
    "        df[attribute] = df[attribute].replace(word, new_word) \n",
    "\n",
    "\n",
    "replace_values('INHABITANTS_Negro', 'No', no_words)\n",
    "replace_values('INHABITANTS_Infiltration', 'No', no_words)"
   ]
  },
  {
   "cell_type": "code",
   "execution_count": 8,
   "metadata": {
    "collapsed": false
   },
   "outputs": [
    {
     "data": {
      "text/plain": [
       "0                  No\n",
       "1                  No\n",
       "2                  No\n",
       "3                  No\n",
       "4                  No\n",
       "5                 NaN\n",
       "6                  No\n",
       "7                  No\n",
       "8                  No\n",
       "9                 NaN\n",
       "10                 No\n",
       "11                 No\n",
       "12                 No\n",
       "13                 No\n",
       "14                 No\n",
       "15    People from C-1\n",
       "Name: INHABITANTS_Infiltration, dtype: object"
      ]
     },
     "execution_count": 8,
     "metadata": {},
     "output_type": "execute_result"
    }
   ],
   "source": [
    "df.ix[0:15,'INHABITANTS_Infiltration']"
   ]
  },
  {
   "cell_type": "markdown",
   "metadata": {},
   "source": [
    "Note that we do the same procedure for words meaning 'few', however we could have made these columns have two categories, 'yes' or 'no', and indicate in our data analysis the alterations to our data."
   ]
  },
  {
   "cell_type": "code",
   "execution_count": 9,
   "metadata": {
    "collapsed": true
   },
   "outputs": [],
   "source": [
    "# Various words meaning small \n",
    "small_words = ['Nominal','nominal', 'Small','small','Minimum', 'minimum','minimal', 'Very few']\n",
    "\n",
    "replace_values('INHABITANTS_Negro', 'Few', small_words)\n",
    "replace_values('INHABITANTS_Infiltration', 'Few', small_words)"
   ]
  },
  {
   "cell_type": "code",
   "execution_count": 10,
   "metadata": {
    "collapsed": false
   },
   "outputs": [
    {
     "data": {
      "text/plain": [
       "0                  No\n",
       "1                  No\n",
       "2                  No\n",
       "3                  No\n",
       "4                  No\n",
       "5                 NaN\n",
       "6                  No\n",
       "7                  No\n",
       "8                  No\n",
       "9                 NaN\n",
       "10                 No\n",
       "11                 No\n",
       "12                 No\n",
       "13                 No\n",
       "14                 No\n",
       "15    People from C-1\n",
       "Name: INHABITANTS_Infiltration, dtype: object"
      ]
     },
     "execution_count": 10,
     "metadata": {},
     "output_type": "execute_result"
    }
   ],
   "source": [
    "df.ix[0:15,'INHABITANTS_Infiltration']"
   ]
  },
  {
   "cell_type": "code",
   "execution_count": 11,
   "metadata": {
    "collapsed": false
   },
   "outputs": [
    {
     "data": {
      "text/plain": [
       "0      No\n",
       "1      No\n",
       "2      No\n",
       "3      No\n",
       "4      No\n",
       "5     NaN\n",
       "6      No\n",
       "7      No\n",
       "8      No\n",
       "9      No\n",
       "10     No\n",
       "11     No\n",
       "12     No\n",
       "13     No\n",
       "14     No\n",
       "15     No\n",
       "Name: INHABITANTS_Negro, dtype: object"
      ]
     },
     "execution_count": 11,
     "metadata": {},
     "output_type": "execute_result"
    }
   ],
   "source": [
    "df.ix[0:15,'INHABITANTS_Negro']"
   ]
  },
  {
   "cell_type": "markdown",
   "metadata": {},
   "source": [
    "We can clean up the values of `INHABITANTS_Population_Increase`, how the population is increasing in an area, by choosing standard categories for the rate the population."
   ]
  },
  {
   "cell_type": "code",
   "execution_count": 12,
   "metadata": {
    "collapsed": false
   },
   "outputs": [
    {
     "data": {
      "text/plain": [
       "0               Fast \n",
       "1     Moderately Fast\n",
       "2     Moderately Fast\n",
       "3              Slowly\n",
       "4     Moderately Fast\n",
       "5                 NaN\n",
       "6                 NaN\n",
       "7              Slowly\n",
       "8     Moderately Fast\n",
       "9     Moderately Fast\n",
       "10                NaN\n",
       "11             Slowly\n",
       "12             Slowly\n",
       "13         Moderately\n",
       "14             Slowly\n",
       "15              Fast \n",
       "Name: INHABITANTS_Population_Increase, dtype: object"
      ]
     },
     "execution_count": 12,
     "metadata": {},
     "output_type": "execute_result"
    }
   ],
   "source": [
    " df.ix[0:15,'INHABITANTS_Population_Increase']"
   ]
  },
  {
   "cell_type": "markdown",
   "metadata": {},
   "source": [
    "We will define rates of the population as very slowly, slowly, moderately, moderately fast, fast based on the data."
   ]
  },
  {
   "cell_type": "code",
   "execution_count": 14,
   "metadata": {
    "collapsed": true
   },
   "outputs": [],
   "source": [
    "# defines values to replace in the table \n",
    "very_slowly = ['Very Slowly', 'very slowly', 'very Slowly']\n",
    "slowly = ['slowly', 'fairly slowly']\n",
    "moderately = ['moderately']\n",
    "moderately_fast = ['Moderately Fast', 'moderately Fast', 'moderately fast']\n",
    "fast = ['very fast', 'Very Fast', 'fast']\n",
    "\n",
    "# applies function to obtain our new values \n",
    "replace_values('INHABITANTS_Population_Increase', 'Very slowly', very_slowly)\n",
    "replace_values('INHABITANTS_Population_Increase', 'Slowly', slowly)\n",
    "replace_values('INHABITANTS_Population_Increase', 'Moderately', moderately )\n",
    "replace_values('INHABITANTS_Population_Increase', 'Moderately fast', moderately_fast)\n",
    "replace_values('INHABITANTS_Population_Increase', 'Moderately fast', moderately_fast)\n",
    "replace_values('INHABITANTS_Population_Increase', 'Fast', fast)\n"
   ]
  },
  {
   "cell_type": "code",
   "execution_count": 15,
   "metadata": {
    "collapsed": false
   },
   "outputs": [
    {
     "data": {
      "text/plain": [
       "0               Fast \n",
       "1     Moderately fast\n",
       "2     Moderately fast\n",
       "3              Slowly\n",
       "4     Moderately fast\n",
       "5                 NaN\n",
       "6                 NaN\n",
       "7              Slowly\n",
       "8     Moderately fast\n",
       "9     Moderately fast\n",
       "10                NaN\n",
       "11             Slowly\n",
       "12             Slowly\n",
       "13         Moderately\n",
       "14             Slowly\n",
       "15              Fast \n",
       "Name: INHABITANTS_Population_Increase, dtype: object"
      ]
     },
     "execution_count": 15,
     "metadata": {},
     "output_type": "execute_result"
    }
   ],
   "source": [
    " df.ix[0:15,'INHABITANTS_Population_Increase']"
   ]
  },
  {
   "cell_type": "markdown",
   "metadata": {},
   "source": [
    "### String Parsing to Extract Data"
   ]
  },
  {
   "cell_type": "markdown",
   "metadata": {},
   "source": [
    "Some of the cities have corresponding suburbs followed by a dash. We can extract the suburbs and create a new column using  `str.split()`."
   ]
  },
  {
   "cell_type": "code",
   "execution_count": 16,
   "metadata": {
    "collapsed": false
   },
   "outputs": [
    {
     "data": {
      "text/plain": [
       "16                                Baltimore \n",
       "17                       Baltimore - Dundalk\n",
       "18                                 Baltimore\n",
       "19                  Baltimore - Metropolitan\n",
       "20                                 Baltimore\n",
       "21                  Baltimore - Metropolitan\n",
       "22                                 Baltimore\n",
       "23                   Baltimore - Sub. Burton\n",
       "24    Baltimore - Sub. Mt. Washington Summit\n",
       "25                Baltimore - Sub. Villahove\n",
       "26            Baltimore - Sub. Colonial Park\n",
       "27        Baltimore - Sub. Linthicum Heights\n",
       "28                                 Baltimore\n",
       "29                                 Baltimore\n",
       "30                                 Baltimore\n",
       "Name: City, dtype: object"
      ]
     },
     "execution_count": 16,
     "metadata": {},
     "output_type": "execute_result"
    }
   ],
   "source": [
    "df.ix[16:30,'City']"
   ]
  },
  {
   "cell_type": "markdown",
   "metadata": {},
   "source": [
    " A new data frame seperate is created with two columns seperated based on `str.split`, where `n=1` indicates the string is split once. We create two new attributes in the original data frame, `City_clean` and `Suburb`. Then we drop the old `City` city column and rename our new `City` attribute."
   ]
  },
  {
   "cell_type": "code",
   "execution_count": 19,
   "metadata": {
    "collapsed": true
   },
   "outputs": [],
   "source": [
    "# creates a new data frame that splits the values in the orginal data frame on the '-' character \n",
    "newdf = df[\"City\"].str.split('-', n = 1, expand = True) \n",
    "newdf.head()\n",
    "\n",
    "# creates two new columns \n",
    "df['City_clean'] = newdf[0]\n",
    "df['Suburb'] = newdf[1]\n",
    "\n",
    "# removes the old column\n",
    "df.drop([\"City\"], axis = 1, inplace = True) \n",
    "\n",
    "# renames as 'City'\n",
    "df.rename(index=str, columns={\"City_clean\": \"City\"});"
   ]
  },
  {
   "cell_type": "code",
   "execution_count": 20,
   "metadata": {
    "collapsed": false
   },
   "outputs": [
    {
     "data": {
      "text/html": [
       "<div>\n",
       "<table border=\"1\" class=\"dataframe\">\n",
       "  <thead>\n",
       "    <tr style=\"text-align: right;\">\n",
       "      <th></th>\n",
       "      <th>Suburb</th>\n",
       "    </tr>\n",
       "  </thead>\n",
       "  <tbody>\n",
       "    <tr>\n",
       "      <th>16</th>\n",
       "      <td>None</td>\n",
       "    </tr>\n",
       "    <tr>\n",
       "      <th>17</th>\n",
       "      <td>Dundalk</td>\n",
       "    </tr>\n",
       "    <tr>\n",
       "      <th>18</th>\n",
       "      <td>None</td>\n",
       "    </tr>\n",
       "    <tr>\n",
       "      <th>19</th>\n",
       "      <td>Metropolitan</td>\n",
       "    </tr>\n",
       "    <tr>\n",
       "      <th>20</th>\n",
       "      <td>None</td>\n",
       "    </tr>\n",
       "    <tr>\n",
       "      <th>21</th>\n",
       "      <td>Metropolitan</td>\n",
       "    </tr>\n",
       "    <tr>\n",
       "      <th>22</th>\n",
       "      <td>None</td>\n",
       "    </tr>\n",
       "    <tr>\n",
       "      <th>23</th>\n",
       "      <td>Sub. Burton</td>\n",
       "    </tr>\n",
       "    <tr>\n",
       "      <th>24</th>\n",
       "      <td>Sub. Mt. Washington Summit</td>\n",
       "    </tr>\n",
       "    <tr>\n",
       "      <th>25</th>\n",
       "      <td>Sub. Villahove</td>\n",
       "    </tr>\n",
       "    <tr>\n",
       "      <th>26</th>\n",
       "      <td>Sub. Colonial Park</td>\n",
       "    </tr>\n",
       "    <tr>\n",
       "      <th>27</th>\n",
       "      <td>Sub. Linthicum Heights</td>\n",
       "    </tr>\n",
       "    <tr>\n",
       "      <th>28</th>\n",
       "      <td>None</td>\n",
       "    </tr>\n",
       "    <tr>\n",
       "      <th>29</th>\n",
       "      <td>None</td>\n",
       "    </tr>\n",
       "    <tr>\n",
       "      <th>30</th>\n",
       "      <td>None</td>\n",
       "    </tr>\n",
       "  </tbody>\n",
       "</table>\n",
       "</div>"
      ],
      "text/plain": [
       "                         Suburb\n",
       "16                         None\n",
       "17                      Dundalk\n",
       "18                         None\n",
       "19                 Metropolitan\n",
       "20                         None\n",
       "21                 Metropolitan\n",
       "22                         None\n",
       "23                  Sub. Burton\n",
       "24   Sub. Mt. Washington Summit\n",
       "25               Sub. Villahove\n",
       "26           Sub. Colonial Park\n",
       "27       Sub. Linthicum Heights\n",
       "28                         None\n",
       "29                         None\n",
       "30                         None"
      ]
     },
     "execution_count": 20,
     "metadata": {},
     "output_type": "execute_result"
    }
   ],
   "source": [
    "df.ix[16:30,['Suburb']]"
   ]
  },
  {
   "cell_type": "markdown",
   "metadata": {},
   "source": [
    "The `BUILDINGS_Age` attribute represents the range of the age of the buildings in a region. Notice the range is given is given as a string of text. For purpose of analysis, we would like to extract the upper end of the range and create a column of numeric values."
   ]
  },
  {
   "cell_type": "code",
   "execution_count": 18,
   "metadata": {
    "collapsed": false
   },
   "outputs": [
    {
     "data": {
      "text/plain": [
       "0      1 to 10 years\n",
       "1           12 years\n",
       "2      1 to 20 years\n",
       "3           10 years\n",
       "4      1 to 20 years\n",
       "5                NaN\n",
       "6           25 years\n",
       "7     15 to 25 years\n",
       "8           15 years\n",
       "9      5 to 25 years\n",
       "10          20 years\n",
       "11     5 to 10 years\n",
       "12          10 years\n",
       "13          25 years\n",
       "14     1 to 20 years\n",
       "15     6 to 25 years\n",
       "Name: BUILDINGS_Age, dtype: object"
      ]
     },
     "execution_count": 18,
     "metadata": {},
     "output_type": "execute_result"
    }
   ],
   "source": [
    "df.ix[0:15,'BUILDINGS_Age']"
   ]
  },
  {
   "cell_type": "markdown",
   "metadata": {},
   "source": [
    "Observe that the numeric value at the end of the range is always the last number followed by the string `years`. We use specific string patterns called __regular expressions (regex)__ and `str.extract()` to create a new attribute called `max_building_age`."
   ]
  },
  {
   "cell_type": "code",
   "execution_count": 23,
   "metadata": {
    "collapsed": false
   },
   "outputs": [],
   "source": [
    "df['max_building_age'] = df['BUILDINGS_Age'].str.extract('(\\d+)(?!.*\\d)', expand=True)"
   ]
  },
  {
   "cell_type": "markdown",
   "metadata": {},
   "source": [
    "The regular expression in this example is `(\\d+)(?!.*\\d)` and was tested using [Pythex](https://pythex.org/), a regex editor. We could have imported `re` , Python's regular expression library, to perform the same task, however this notebook consistenly uses `str()` functions."
   ]
  },
  {
   "cell_type": "code",
   "execution_count": 24,
   "metadata": {
    "collapsed": false
   },
   "outputs": [
    {
     "data": {
      "text/html": [
       "<div>\n",
       "<table border=\"1\" class=\"dataframe\">\n",
       "  <thead>\n",
       "    <tr style=\"text-align: right;\">\n",
       "      <th></th>\n",
       "      <th>BUILDINGS_Age</th>\n",
       "      <th>max_building_age</th>\n",
       "    </tr>\n",
       "  </thead>\n",
       "  <tbody>\n",
       "    <tr>\n",
       "      <th>0</th>\n",
       "      <td>1 to 10 years</td>\n",
       "      <td>10</td>\n",
       "    </tr>\n",
       "    <tr>\n",
       "      <th>1</th>\n",
       "      <td>12 years</td>\n",
       "      <td>12</td>\n",
       "    </tr>\n",
       "    <tr>\n",
       "      <th>2</th>\n",
       "      <td>1 to 20 years</td>\n",
       "      <td>20</td>\n",
       "    </tr>\n",
       "    <tr>\n",
       "      <th>3</th>\n",
       "      <td>10 years</td>\n",
       "      <td>10</td>\n",
       "    </tr>\n",
       "    <tr>\n",
       "      <th>4</th>\n",
       "      <td>1 to 20 years</td>\n",
       "      <td>20</td>\n",
       "    </tr>\n",
       "    <tr>\n",
       "      <th>5</th>\n",
       "      <td>NaN</td>\n",
       "      <td>NaN</td>\n",
       "    </tr>\n",
       "    <tr>\n",
       "      <th>6</th>\n",
       "      <td>25 years</td>\n",
       "      <td>25</td>\n",
       "    </tr>\n",
       "    <tr>\n",
       "      <th>7</th>\n",
       "      <td>15 to 25 years</td>\n",
       "      <td>25</td>\n",
       "    </tr>\n",
       "    <tr>\n",
       "      <th>8</th>\n",
       "      <td>15 years</td>\n",
       "      <td>15</td>\n",
       "    </tr>\n",
       "    <tr>\n",
       "      <th>9</th>\n",
       "      <td>5 to 25 years</td>\n",
       "      <td>25</td>\n",
       "    </tr>\n",
       "    <tr>\n",
       "      <th>10</th>\n",
       "      <td>20 years</td>\n",
       "      <td>20</td>\n",
       "    </tr>\n",
       "    <tr>\n",
       "      <th>11</th>\n",
       "      <td>5 to 10 years</td>\n",
       "      <td>10</td>\n",
       "    </tr>\n",
       "    <tr>\n",
       "      <th>12</th>\n",
       "      <td>10 years</td>\n",
       "      <td>10</td>\n",
       "    </tr>\n",
       "    <tr>\n",
       "      <th>13</th>\n",
       "      <td>25 years</td>\n",
       "      <td>25</td>\n",
       "    </tr>\n",
       "    <tr>\n",
       "      <th>14</th>\n",
       "      <td>1 to 20 years</td>\n",
       "      <td>20</td>\n",
       "    </tr>\n",
       "    <tr>\n",
       "      <th>15</th>\n",
       "      <td>6 to 25 years</td>\n",
       "      <td>25</td>\n",
       "    </tr>\n",
       "  </tbody>\n",
       "</table>\n",
       "</div>"
      ],
      "text/plain": [
       "     BUILDINGS_Age max_building_age\n",
       "0    1 to 10 years               10\n",
       "1         12 years               12\n",
       "2    1 to 20 years               20\n",
       "3         10 years               10\n",
       "4    1 to 20 years               20\n",
       "5              NaN              NaN\n",
       "6         25 years               25\n",
       "7   15 to 25 years               25\n",
       "8         15 years               15\n",
       "9    5 to 25 years               25\n",
       "10        20 years               20\n",
       "11   5 to 10 years               10\n",
       "12        10 years               10\n",
       "13        25 years               25\n",
       "14   1 to 20 years               20\n",
       "15   6 to 25 years               25"
      ]
     },
     "execution_count": 24,
     "metadata": {},
     "output_type": "execute_result"
    }
   ],
   "source": [
    "df.ix[0:15,['BUILDINGS_Age','max_building_age']]"
   ]
  },
  {
   "cell_type": "markdown",
   "metadata": {},
   "source": [
    "The `Date`, the date indicated on the form, has three attributes with the pattern given by **month day, year**. As previously stated, we would like to have a single attribute per column."
   ]
  },
  {
   "cell_type": "code",
   "execution_count": 25,
   "metadata": {
    "collapsed": false
   },
   "outputs": [
    {
     "data": {
      "text/html": [
       "<div>\n",
       "<table border=\"1\" class=\"dataframe\">\n",
       "  <thead>\n",
       "    <tr style=\"text-align: right;\">\n",
       "      <th></th>\n",
       "      <th>Date</th>\n",
       "    </tr>\n",
       "  </thead>\n",
       "  <tbody>\n",
       "    <tr>\n",
       "      <th>0</th>\n",
       "      <td>May 4,1937</td>\n",
       "    </tr>\n",
       "    <tr>\n",
       "      <th>1</th>\n",
       "      <td>May 4,1937</td>\n",
       "    </tr>\n",
       "    <tr>\n",
       "      <th>2</th>\n",
       "      <td>May 4,1937</td>\n",
       "    </tr>\n",
       "    <tr>\n",
       "      <th>3</th>\n",
       "      <td>May 4,1937</td>\n",
       "    </tr>\n",
       "  </tbody>\n",
       "</table>\n",
       "</div>"
      ],
      "text/plain": [
       "         Date\n",
       "0  May 4,1937\n",
       "1  May 4,1937\n",
       "2  May 4,1937\n",
       "3  May 4,1937"
      ]
     },
     "execution_count": 25,
     "metadata": {},
     "output_type": "execute_result"
    }
   ],
   "source": [
    "df.ix[0:3,['Date']]"
   ]
  },
  {
   "cell_type": "markdown",
   "metadata": {},
   "source": [
    "We can seperate this column into three columns:  `Month`, `Day`, and `Year` using `str.extract()` and regex patterns\n",
    "`(\\d\\d\\d\\d)` to indicate four digit year, `(\\d)` to indicate a single digit day, and ` [A-Z]\\w{0,}` to indicate __aplhanumeric__ text to extract the month. Note that regex can also be used to reformat the date column."
   ]
  },
  {
   "cell_type": "code",
   "execution_count": 26,
   "metadata": {
    "collapsed": false
   },
   "outputs": [
    {
     "data": {
      "text/html": [
       "<div>\n",
       "<table border=\"1\" class=\"dataframe\">\n",
       "  <thead>\n",
       "    <tr style=\"text-align: right;\">\n",
       "      <th></th>\n",
       "      <th>Date</th>\n",
       "      <th>Month</th>\n",
       "      <th>Day</th>\n",
       "      <th>Year</th>\n",
       "    </tr>\n",
       "  </thead>\n",
       "  <tbody>\n",
       "    <tr>\n",
       "      <th>0</th>\n",
       "      <td>May 4,1937</td>\n",
       "      <td>May</td>\n",
       "      <td>4</td>\n",
       "      <td>1937</td>\n",
       "    </tr>\n",
       "    <tr>\n",
       "      <th>1</th>\n",
       "      <td>May 4,1937</td>\n",
       "      <td>May</td>\n",
       "      <td>4</td>\n",
       "      <td>1937</td>\n",
       "    </tr>\n",
       "    <tr>\n",
       "      <th>2</th>\n",
       "      <td>May 4,1937</td>\n",
       "      <td>May</td>\n",
       "      <td>4</td>\n",
       "      <td>1937</td>\n",
       "    </tr>\n",
       "    <tr>\n",
       "      <th>3</th>\n",
       "      <td>May 4,1937</td>\n",
       "      <td>May</td>\n",
       "      <td>4</td>\n",
       "      <td>1937</td>\n",
       "    </tr>\n",
       "  </tbody>\n",
       "</table>\n",
       "</div>"
      ],
      "text/plain": [
       "         Date Month Day  Year\n",
       "0  May 4,1937   May   4  1937\n",
       "1  May 4,1937   May   4  1937\n",
       "2  May 4,1937   May   4  1937\n",
       "3  May 4,1937   May   4  1937"
      ]
     },
     "execution_count": 26,
     "metadata": {},
     "output_type": "execute_result"
    }
   ],
   "source": [
    "# extracts the year \n",
    "df['Year'] = df['Date'].str.extract('(\\d\\d\\d\\d)', expand=True)\n",
    "\n",
    "# extracts day  \n",
    "df['Day'] = df['Date'].str.extract('(\\d)', expand=True)\n",
    "\n",
    "# extracts month \n",
    "df['Month'] = df['Date'].str.extract('([A-Z]\\w{0,})', expand=True)\n",
    "\n",
    "df.ix[0:3,['Date','Month','Day','Year']]"
   ]
  },
  {
   "cell_type": "markdown",
   "metadata": {},
   "source": [
    "Similar to `BUILDINGS_Age`, `INHABITANTS_Annual_Income`, the range of income of residents in a section, is a string of text and we would like to extract the numeric value at the end of the range."
   ]
  },
  {
   "cell_type": "code",
   "execution_count": 27,
   "metadata": {
    "collapsed": false
   },
   "outputs": [
    {
     "data": {
      "text/html": [
       "<div>\n",
       "<table border=\"1\" class=\"dataframe\">\n",
       "  <thead>\n",
       "    <tr style=\"text-align: right;\">\n",
       "      <th></th>\n",
       "      <th>INHABITANTS_Annual_Income</th>\n",
       "    </tr>\n",
       "  </thead>\n",
       "  <tbody>\n",
       "    <tr>\n",
       "      <th>0</th>\n",
       "      <td>$3000 - 5,000</td>\n",
       "    </tr>\n",
       "    <tr>\n",
       "      <th>1</th>\n",
       "      <td>over $5000</td>\n",
       "    </tr>\n",
       "    <tr>\n",
       "      <th>2</th>\n",
       "      <td>3500 - 7000</td>\n",
       "    </tr>\n",
       "    <tr>\n",
       "      <th>3</th>\n",
       "      <td>over $5000</td>\n",
       "    </tr>\n",
       "    <tr>\n",
       "      <th>4</th>\n",
       "      <td>$3,500 - $10,000</td>\n",
       "    </tr>\n",
       "    <tr>\n",
       "      <th>5</th>\n",
       "      <td>NaN</td>\n",
       "    </tr>\n",
       "    <tr>\n",
       "      <th>6</th>\n",
       "      <td>over $4000</td>\n",
       "    </tr>\n",
       "    <tr>\n",
       "      <th>7</th>\n",
       "      <td>over $5000</td>\n",
       "    </tr>\n",
       "  </tbody>\n",
       "</table>\n",
       "</div>"
      ],
      "text/plain": [
       "  INHABITANTS_Annual_Income\n",
       "0             $3000 - 5,000\n",
       "1                over $5000\n",
       "2               3500 - 7000\n",
       "3                over $5000\n",
       "4          $3,500 - $10,000\n",
       "5                       NaN\n",
       "6                over $4000\n",
       "7                over $5000"
      ]
     },
     "execution_count": 27,
     "metadata": {},
     "output_type": "execute_result"
    }
   ],
   "source": [
    "df.ix[0:7,['INHABITANTS_Annual_Income']]"
   ]
  },
  {
   "cell_type": "markdown",
   "metadata": {},
   "source": [
    "Observe that some values are located after '$', some inlcude '-', and others include ','.Since the pattern to extract the last numeric value varies, we use `str.replace()`, `str.extract`, and regex in a sequence of operations to create a new column `max_annual_income`."
   ]
  },
  {
   "cell_type": "code",
   "execution_count": 28,
   "metadata": {
    "collapsed": true
   },
   "outputs": [],
   "source": [
    "# replaces anything that is not a digit or ',' with empty space\n",
    "df['max_annual_income'] = df['INHABITANTS_Annual_Income'].str.replace('[^\\d(,)]',' ')"
   ]
  },
  {
   "cell_type": "code",
   "execution_count": 29,
   "metadata": {
    "collapsed": false
   },
   "outputs": [
    {
     "data": {
      "text/html": [
       "<div>\n",
       "<table border=\"1\" class=\"dataframe\">\n",
       "  <thead>\n",
       "    <tr style=\"text-align: right;\">\n",
       "      <th></th>\n",
       "      <th>max_annual_income</th>\n",
       "    </tr>\n",
       "  </thead>\n",
       "  <tbody>\n",
       "    <tr>\n",
       "      <th>0</th>\n",
       "      <td>3000   5,000</td>\n",
       "    </tr>\n",
       "    <tr>\n",
       "      <th>1</th>\n",
       "      <td>5000</td>\n",
       "    </tr>\n",
       "    <tr>\n",
       "      <th>2</th>\n",
       "      <td>3500   7000</td>\n",
       "    </tr>\n",
       "    <tr>\n",
       "      <th>3</th>\n",
       "      <td>5000</td>\n",
       "    </tr>\n",
       "    <tr>\n",
       "      <th>4</th>\n",
       "      <td>3,500    10,000</td>\n",
       "    </tr>\n",
       "    <tr>\n",
       "      <th>5</th>\n",
       "      <td>NaN</td>\n",
       "    </tr>\n",
       "    <tr>\n",
       "      <th>6</th>\n",
       "      <td>4000</td>\n",
       "    </tr>\n",
       "    <tr>\n",
       "      <th>7</th>\n",
       "      <td>5000</td>\n",
       "    </tr>\n",
       "  </tbody>\n",
       "</table>\n",
       "</div>"
      ],
      "text/plain": [
       "  max_annual_income\n",
       "0      3000   5,000\n",
       "1              5000\n",
       "2       3500   7000\n",
       "3              5000\n",
       "4   3,500    10,000\n",
       "5               NaN\n",
       "6              4000\n",
       "7              5000"
      ]
     },
     "execution_count": 29,
     "metadata": {},
     "output_type": "execute_result"
    }
   ],
   "source": [
    "df.ix[0:7,['max_annual_income']]"
   ]
  },
  {
   "cell_type": "markdown",
   "metadata": {},
   "source": [
    "We did not include the delimeter in the previous `str.replace()` operation because their positions would have been replaced by an empty space. Now we want to remove delimeters."
   ]
  },
  {
   "cell_type": "code",
   "execution_count": 30,
   "metadata": {
    "collapsed": true
   },
   "outputs": [],
   "source": [
    "# removes delimeter by replacing ',' with ''\n",
    "df['max_annual_income'] = df['max_annual_income'].str.replace('[(,)]','')"
   ]
  },
  {
   "cell_type": "code",
   "execution_count": 31,
   "metadata": {
    "collapsed": false
   },
   "outputs": [
    {
     "data": {
      "text/html": [
       "<div>\n",
       "<table border=\"1\" class=\"dataframe\">\n",
       "  <thead>\n",
       "    <tr style=\"text-align: right;\">\n",
       "      <th></th>\n",
       "      <th>max_annual_income</th>\n",
       "    </tr>\n",
       "  </thead>\n",
       "  <tbody>\n",
       "    <tr>\n",
       "      <th>0</th>\n",
       "      <td>3000   5000</td>\n",
       "    </tr>\n",
       "    <tr>\n",
       "      <th>1</th>\n",
       "      <td>5000</td>\n",
       "    </tr>\n",
       "    <tr>\n",
       "      <th>2</th>\n",
       "      <td>3500   7000</td>\n",
       "    </tr>\n",
       "    <tr>\n",
       "      <th>3</th>\n",
       "      <td>5000</td>\n",
       "    </tr>\n",
       "    <tr>\n",
       "      <th>4</th>\n",
       "      <td>3500    10000</td>\n",
       "    </tr>\n",
       "    <tr>\n",
       "      <th>5</th>\n",
       "      <td>NaN</td>\n",
       "    </tr>\n",
       "    <tr>\n",
       "      <th>6</th>\n",
       "      <td>4000</td>\n",
       "    </tr>\n",
       "    <tr>\n",
       "      <th>7</th>\n",
       "      <td>5000</td>\n",
       "    </tr>\n",
       "  </tbody>\n",
       "</table>\n",
       "</div>"
      ],
      "text/plain": [
       "  max_annual_income\n",
       "0       3000   5000\n",
       "1              5000\n",
       "2       3500   7000\n",
       "3              5000\n",
       "4     3500    10000\n",
       "5               NaN\n",
       "6              4000\n",
       "7              5000"
      ]
     },
     "execution_count": 31,
     "metadata": {},
     "output_type": "execute_result"
    }
   ],
   "source": [
    "df.ix[0:7,['max_annual_income']]"
   ]
  },
  {
   "cell_type": "markdown",
   "metadata": {},
   "source": [
    "Finally, we can extract the last number."
   ]
  },
  {
   "cell_type": "code",
   "execution_count": 33,
   "metadata": {
    "collapsed": true
   },
   "outputs": [],
   "source": [
    "# extracts the second or last number \n",
    "df['max_annual_income'] = df['max_annual_income'].str.extract('(\\d+)(?!.*\\d)', expand=True)"
   ]
  },
  {
   "cell_type": "code",
   "execution_count": 34,
   "metadata": {
    "collapsed": false
   },
   "outputs": [
    {
     "data": {
      "text/html": [
       "<div>\n",
       "<table border=\"1\" class=\"dataframe\">\n",
       "  <thead>\n",
       "    <tr style=\"text-align: right;\">\n",
       "      <th></th>\n",
       "      <th>max_annual_income</th>\n",
       "    </tr>\n",
       "  </thead>\n",
       "  <tbody>\n",
       "    <tr>\n",
       "      <th>0</th>\n",
       "      <td>5000</td>\n",
       "    </tr>\n",
       "    <tr>\n",
       "      <th>1</th>\n",
       "      <td>5000</td>\n",
       "    </tr>\n",
       "    <tr>\n",
       "      <th>2</th>\n",
       "      <td>7000</td>\n",
       "    </tr>\n",
       "    <tr>\n",
       "      <th>3</th>\n",
       "      <td>5000</td>\n",
       "    </tr>\n",
       "    <tr>\n",
       "      <th>4</th>\n",
       "      <td>10000</td>\n",
       "    </tr>\n",
       "    <tr>\n",
       "      <th>5</th>\n",
       "      <td>NaN</td>\n",
       "    </tr>\n",
       "    <tr>\n",
       "      <th>6</th>\n",
       "      <td>4000</td>\n",
       "    </tr>\n",
       "    <tr>\n",
       "      <th>7</th>\n",
       "      <td>5000</td>\n",
       "    </tr>\n",
       "  </tbody>\n",
       "</table>\n",
       "</div>"
      ],
      "text/plain": [
       "  max_annual_income\n",
       "0              5000\n",
       "1              5000\n",
       "2              7000\n",
       "3              5000\n",
       "4             10000\n",
       "5               NaN\n",
       "6              4000\n",
       "7              5000"
      ]
     },
     "execution_count": 34,
     "metadata": {},
     "output_type": "execute_result"
    }
   ],
   "source": [
    "df.ix[0:7,['max_annual_income']]"
   ]
  },
  {
   "cell_type": "markdown",
   "metadata": {},
   "source": [
    "__How can we create new attribute called `median income`? View the solution here.__"
   ]
  },
  {
   "cell_type": "code",
   "execution_count": null,
   "metadata": {
    "collapsed": true
   },
   "outputs": [],
   "source": []
  }
 ],
 "metadata": {
  "kernelspec": {
   "display_name": "Python 3",
   "language": "python",
   "name": "python3"
  },
  "language_info": {
   "codemirror_mode": {
    "name": "ipython",
    "version": 3
   },
   "file_extension": ".py",
   "mimetype": "text/x-python",
   "name": "python",
   "nbconvert_exporter": "python",
   "pygments_lexer": "ipython3",
   "version": "3.6.0"
  }
 },
 "nbformat": 4,
 "nbformat_minor": 2
}
