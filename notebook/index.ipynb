{
 "cells": [
  {
   "cell_type": "markdown",
   "metadata": {},
   "source": [
    "<a href=\"https://dcic.umd.edu/\"><img src=\"dcic.png\" align=\"right\"></a>"
   ]
  },
  {
   "cell_type": "markdown",
   "metadata": {},
   "source": [
    "# Baltimore - <font color=red>Redlining</font> CASE Module "
   ]
  },
  {
   "cell_type": "markdown",
   "metadata": {},
   "source": [
    "### <font color=grey> An educational notebook demonstrating computational archival techniques on the Baltimore dataset created The National Archive's Home Owners' Loan Corperation Records </font>"
   ]
  },
  {
   "cell_type": "markdown",
   "metadata": {},
   "source": [
    "\n",
    " __Contributors__: *Sarah Agarrat <sup>1</sup>* and *Richard Marciano <sup>2</sup>*\n",
    "<br>__Source Available__ : https://github.com/cases-umd/Baltimore-Redlining.git\n",
    "<br> __License__: [Creative Commons Attribution-NonCommercial-ShareAlike 4.0 International License](http://creativecommons.org/licenses/by-nc-sa/4.0/) <img src=\"cc.png\" width=100 align=right>\n",
    "<br> __Lesson Plan for Instructors__<br>\n",
    "__More Information:__\n",
    "[DCIC Mapping Inequality Project Blog](https://dcicblog.umd.edu/mapping-inequality/)\n",
    "[Mapping Inequality Website](https://dsl.richmond.edu/panorama/redlining/#loc=4/36.71/-96.93&opacity=0.8)\n",
    "\n",
    "1 Computer Science , 2 Faculty\n"
   ]
  },
  {
   "cell_type": "markdown",
   "metadata": {},
   "source": [
    "## Introduction "
   ]
  },
  {
   "cell_type": "markdown",
   "metadata": {},
   "source": [
    "> After the [1929 Stock Market Crash](https://en.wikipedia.org/wiki/Wall_Street_Crash_of_1929), thousands of Americans were in danger of home foreclosure. To address this problem and stabilize the market, The Home Owners Loan Coperation (HOLC) was created under the Rooselvelt Administration to asses credibility of families in order to decide to refinance their homes.\n",
    "The HOLC created area descriptions and maps to \"grade\" neighborhoods based on racial/ethnic presence, the income of the residents, and environmental factors to determine their \"financial risk\". A grade of an 'A' (red) , was given to an area characterized as undesirable due to detrimental influences and unfavorable infiltration. Grade 'B' (yellow) areas were characterized by infiltration of a \"lower grade population\", \"lacking homogeniety\", and age of the neighborhoods, grade 'C' (blue) areas were completely developed, and 'grade 'D' (green) areas were characterized as \"hot spots\" that weren't fully built up yet and contained homogeinety. This is called [__*redlining*__](https://en.wikipedia.org/wiki/Redlining), denying financial services based on race/ethnic background. <img src=\"baltimoremap-min.png\" alt=\"Baltimore security grade map\" title=\"Baltimore Security Grade Map\" align = \"right\" width=600> <br> <br> This module stems from the __Mapping Inequality Project__, a big cultral data project which uses archival practices and digital curation techniques to curate the HOLC collections, extract information from the text, and share the information with the public.\n",
    "This is important because the HOLC records are currently stored at [National Archives, College Park](https://www.archives.gov/college-park) in RG 195: General Records of the Department of Housing and Urban Development and can only be accessed by physically visiting the center and accessing the records. <br> <br> This module is inspired by __Mapping Inequality: Baltimore __, a Maryland Day 2016 presentation which discussed the [history](https://dcicblog.umd.edu/redliningbaltimore/baltimores-history/) of redlining in particulary Baltimore and showcased HOLC Baltimore archival documents and the [interactive Baltimore security grade map](https://dsl.richmond.edu/panorama/redlining/#loc=11/39.2923/-76.6331&opacity=0.8&city=baltimore-md).<img src=\"baltimorehousing_survey.png\" alt=\"Baltimore security grade map\" title=\"Loan Rent Housing Survey\" align=left width=200>"
   ]
  },
  {
   "cell_type": "markdown",
   "metadata": {},
   "source": [
    "## Motivation "
   ]
  },
  {
   "cell_type": "markdown",
   "metadata": {},
   "source": [
    "> An analysis by National Community Reinvestment Coalition (NCRC) found that in Baltimore [64% of communities identified](http://maps.ncrc.org/holcanalysis/holcpdf/HOLC_Baltimore,%20MD.pdf) as \"Hazardous\" by the HOLC are still majority-minority areas in 2010 Census and 74% of these areas remain low to moderate income. By analyzing the data from historical records we can generate information about the past and understand patterns in the present. <br> <br> In this module, we would like to visualize the characteristics, defined by Home Owners' Loan Coperation, of communities in 1930's Baltimore."
   ]
  },
  {
   "cell_type": "markdown",
   "metadata": {},
   "source": [
    "## Learning Goals"
   ]
  },
  {
   "cell_type": "markdown",
   "metadata": {},
   "source": [
    "### Archival Practices "
   ]
  },
  {
   "cell_type": "markdown",
   "metadata": {},
   "source": [
    "*TBD*"
   ]
  },
  {
   "cell_type": "markdown",
   "metadata": {},
   "source": [
    "### Computational Practices "
   ]
  },
  {
   "cell_type": "markdown",
   "metadata": {},
   "source": [
    "- Data Practices\n",
    "    - Creating Data\n",
    "    - Manipulating Data\n",
    "    - Analyzing Data\n",
    "    - Visualizing Data\n",
    "- Computational Problem Solving Practices\n",
    "    - Computer programming\n",
    "    - Developing Modular Computational Solutions\n",
    "    - Troubleshooting and Debugging"
   ]
  },
  {
   "cell_type": "markdown",
   "metadata": {},
   "source": [
    "### Ethical Concerns"
   ]
  },
  {
   "cell_type": "markdown",
   "metadata": {},
   "source": [
    "*TBD*"
   ]
  },
  {
   "cell_type": "markdown",
   "metadata": {},
   "source": [
    "## Software and Tools"
   ]
  },
  {
   "cell_type": "markdown",
   "metadata": {},
   "source": [
    "> <a href=\"https://www.python.org/download/releases/3.0/\"><img src=\"python3.png\" width=200></a>\n",
    "<a href=\"http://pandas.pydata.org/pandas-docs/stable/\"><img src=\"pandas-logo.png\" width=200></a>\n",
    "<a href=\"https://matplotlib.org/users/index.html\"><img src=\"matplotlib.png\" width=200></a>"
   ]
  },
  {
   "cell_type": "markdown",
   "metadata": {},
   "source": [
    "## Acquiring or Accessing the Data"
   ]
  },
  {
   "cell_type": "markdown",
   "metadata": {
    "collapsed": true
   },
   "source": [
    "> The Digital Inovation Curation Center uses a crowdsourcing platform called [Scribe](https://github.com/UMD-DCIC/Scribe) to transcribe and digitilize HOLC form. <img src=\"Baltimore_AD_002.png\" width=300 align=right>\n",
    "<br>The output is a JavaScript Object Notation file that has been converted into Comma-Seperated Value file for the purpose of analysis. The files used in this module can be accessed below : \n",
    "-  [AD_Data_BaltimoreProject.csv](AD_Data_BaltimoreProject.csv) \n",
    "\n",
    "There are no other data files needed to run this module. Morever, the outputs for other HOLC cities can be found on the Scribe github repository."
   ]
  },
  {
   "cell_type": "markdown",
   "metadata": {},
   "source": [
    "## Notebooks"
   ]
  },
  {
   "cell_type": "markdown",
   "metadata": {},
   "source": [
    "> This module is organized into three Python notebooks:\n",
    "1. [Data Cleaning and Preperation](Data Cleaning and Preperation .ipynb)\n",
    "2. [Data Manipulation](Data Manipulation.ipynb)\n",
    "3. [Data Analysis and Visualization](Data Visualization.ipynb)"
   ]
  }
 ],
 "metadata": {
  "kernelspec": {
   "display_name": "Python 3",
   "language": "python",
   "name": "python3"
  },
  "language_info": {
   "codemirror_mode": {
    "name": "ipython",
    "version": 3
   },
   "file_extension": ".py",
   "mimetype": "text/x-python",
   "name": "python",
   "nbconvert_exporter": "python",
   "pygments_lexer": "ipython3",
   "version": "3.6.0"
  }
 },
 "nbformat": 4,
 "nbformat_minor": 2
}
